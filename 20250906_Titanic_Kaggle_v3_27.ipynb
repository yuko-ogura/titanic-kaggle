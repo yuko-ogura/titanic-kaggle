{
  "nbformat": 4,
  "nbformat_minor": 0,
  "metadata": {
    "colab": {
      "provenance": [],
      "authorship_tag": "ABX9TyP4LjiwbDGk8fTTX+U+XNvX",
      "include_colab_link": true
    },
    "kernelspec": {
      "name": "python3",
      "display_name": "Python 3"
    },
    "language_info": {
      "name": "python"
    }
  },
  "cells": [
    {
      "cell_type": "markdown",
      "metadata": {
        "id": "view-in-github",
        "colab_type": "text"
      },
      "source": [
        "<a href=\"https://colab.research.google.com/github/yuko-ogura/titanic-kaggle/blob/main/20250906_Titanic_Kaggle_v3_27.ipynb\" target=\"_parent\"><img src=\"https://colab.research.google.com/assets/colab-badge.svg\" alt=\"Open In Colab\"/></a>"
      ]
    },
    {
      "cell_type": "code",
      "execution_count": 1,
      "metadata": {
        "colab": {
          "base_uri": "https://localhost:8080/",
          "height": 69
        },
        "id": "AOufe5ot2rQF",
        "outputId": "ce92dca2-e92a-4796-845f-62f0749bb6d6"
      },
      "outputs": [
        {
          "output_type": "stream",
          "name": "stdout",
          "text": [
            "Mounted at /content/drive\n",
            "Best params: {'classify__max_depth': 6, 'classify__n_estimators': 21}\n",
            "Best CV score: 0.840661672908864\n"
          ]
        },
        {
          "output_type": "display_data",
          "data": {
            "text/plain": [
              "<IPython.core.display.Javascript object>"
            ],
            "application/javascript": [
              "\n",
              "    async function download(id, filename, size) {\n",
              "      if (!google.colab.kernel.accessAllowed) {\n",
              "        return;\n",
              "      }\n",
              "      const div = document.createElement('div');\n",
              "      const label = document.createElement('label');\n",
              "      label.textContent = `Downloading \"${filename}\": `;\n",
              "      div.appendChild(label);\n",
              "      const progress = document.createElement('progress');\n",
              "      progress.max = size;\n",
              "      div.appendChild(progress);\n",
              "      document.body.appendChild(div);\n",
              "\n",
              "      const buffers = [];\n",
              "      let downloaded = 0;\n",
              "\n",
              "      const channel = await google.colab.kernel.comms.open(id);\n",
              "      // Send a message to notify the kernel that we're ready.\n",
              "      channel.send({})\n",
              "\n",
              "      for await (const message of channel.messages) {\n",
              "        // Send a message to notify the kernel that we're ready.\n",
              "        channel.send({})\n",
              "        if (message.buffers) {\n",
              "          for (const buffer of message.buffers) {\n",
              "            buffers.push(buffer);\n",
              "            downloaded += buffer.byteLength;\n",
              "            progress.value = downloaded;\n",
              "          }\n",
              "        }\n",
              "      }\n",
              "      const blob = new Blob(buffers, {type: 'application/binary'});\n",
              "      const a = document.createElement('a');\n",
              "      a.href = window.URL.createObjectURL(blob);\n",
              "      a.download = filename;\n",
              "      div.appendChild(a);\n",
              "      a.click();\n",
              "      div.remove();\n",
              "    }\n",
              "  "
            ]
          },
          "metadata": {}
        },
        {
          "output_type": "display_data",
          "data": {
            "text/plain": [
              "<IPython.core.display.Javascript object>"
            ],
            "application/javascript": [
              "download(\"download_f954f7de-a174-4194-acd4-9763f03a90c2\", \"submission.csv\", 2839)"
            ]
          },
          "metadata": {}
        }
      ],
      "source": [
        "import pandas as pd\n",
        "from sklearn.ensemble import RandomForestClassifier\n",
        "from sklearn.model_selection import GridSearchCV\n",
        "from sklearn.pipeline import Pipeline\n",
        "from google.colab import drive\n",
        "from google.colab import files\n",
        "\n",
        "# --- Mount Google Drive ---\n",
        "drive.mount('/content/drive')\n",
        "\n",
        "# --- Load data ---\n",
        "train = pd.read_csv(\"/content/drive/My Drive/202509 Kaggle Titanic Project/train.csv\")\n",
        "test = pd.read_csv(\"/content/drive/My Drive/202509 Kaggle Titanic Project/test.csv\")\n",
        "\n",
        "# --- Fill missing values simply ---\n",
        "train['Age'] = train['Age'].fillna(train['Age'].mean())\n",
        "train['Embarked'] = train['Embarked'].fillna('S')\n",
        "train['Fare'] = train['Fare'].fillna(train['Fare'].mean())\n",
        "\n",
        "test['Age'] = test['Age'].fillna(train['Age'].mean())\n",
        "test['Fare'] = test['Fare'].fillna(train['Fare'].mean())\n",
        "test['Embarked'] = test['Embarked'].fillna('S')\n",
        "\n",
        "# --- Combine train and test to create consistent features ---\n",
        "dataset = pd.concat([train, test], ignore_index=True)\n",
        "\n",
        "# --- Create Deck feature ---\n",
        "dataset['Deck'] = dataset['Cabin'].astype(str).str[0].replace('n','U')\n",
        "\n",
        "# --- Create TicketGroup feature ---\n",
        "Ticket_Count = dict(dataset['Ticket'].value_counts())\n",
        "dataset['TicketGroup'] = dataset['Ticket'].apply(lambda x: Ticket_Count[x])\n",
        "\n",
        "def Ticket_Label(s):\n",
        "    if 2 <= s <= 4: return 2\n",
        "    elif (s > 4 and s <= 8) or s == 1: return 1\n",
        "    elif s > 8: return 0\n",
        "\n",
        "dataset['TicketGroup'] = dataset['TicketGroup'].apply(Ticket_Label)\n",
        "\n",
        "# --- Split back into train and test ---\n",
        "train = dataset[dataset['Survived'].notna()]\n",
        "test = dataset[dataset['Survived'].isna()]\n",
        "\n",
        "# --- Select features ---\n",
        "features = ['Pclass','Sex','Age','Fare','Embarked', 'Deck', 'TicketGroup']\n",
        "\n",
        "X = pd.get_dummies(train[features])\n",
        "y = train['Survived']\n",
        "X_test = pd.get_dummies(test[features])\n",
        "X_test = X_test.reindex(columns=X.columns, fill_value=0)\n",
        "\n",
        "# --- Model setup ---\n",
        "clf = RandomForestClassifier(random_state=10, max_features='sqrt')\n",
        "pipe = Pipeline([('classify', clf)])\n",
        "param_test = {\n",
        "    'classify__n_estimators': list(range(20, 30, 1)),\n",
        "    'classify__max_depth': list(range(3, 10, 1))\n",
        "}\n",
        "\n",
        "grid = GridSearchCV(estimator=pipe, param_grid=param_test, scoring='accuracy', cv=10)\n",
        "grid.fit(X, y)\n",
        "\n",
        "print(\"Best params:\", grid.best_params_)\n",
        "print(\"Best CV score:\", grid.best_score_)\n",
        "\n",
        "# --- Predict with best model ---\n",
        "predictions = grid.predict(X_test)\n",
        "\n",
        "submission = pd.DataFrame({\n",
        "    \"PassengerId\": test[\"PassengerId\"],\n",
        "    \"Survived\": predictions.astype(int)\n",
        "})\n",
        "submission.to_csv(\"submission.csv\", index=False)\n",
        "\n",
        "# Download\n",
        "files.download(\"submission.csv\")\n"
      ]
    },
    {
      "cell_type": "code",
      "source": [
        "# Install git if not available\n",
        "!apt-get install git -y\n",
        "\n",
        "# Configure git (do this once per Colab runtime)\n",
        "!git config --global user.name \"yuko-ogura\"\n",
        "!git config --global user.email \"bananamuffinz31@gmail.com\"\n"
      ],
      "metadata": {
        "id": "yFqKwURi45MV",
        "colab": {
          "base_uri": "https://localhost:8080/"
        },
        "outputId": "e7a1e539-f0b3-454b-eef2-6e0a346b277d"
      },
      "execution_count": 2,
      "outputs": [
        {
          "output_type": "stream",
          "name": "stdout",
          "text": [
            "Reading package lists... Done\n",
            "Building dependency tree... Done\n",
            "Reading state information... Done\n",
            "git is already the newest version (1:2.34.1-1ubuntu1.15).\n",
            "0 upgraded, 0 newly installed, 0 to remove and 35 not upgraded.\n"
          ]
        }
      ]
    },
    {
      "cell_type": "code",
      "source": [
        "# Navigate to content folder\n",
        "%cd /content\n",
        "\n",
        "# Clone the repo\n",
        "!git clone https://github.com/yuko-ogura/titanic-kaggle.git\n",
        "\n",
        "# Move into it\n",
        "%cd titanic-kaggle\n"
      ],
      "metadata": {
        "colab": {
          "base_uri": "https://localhost:8080/"
        },
        "id": "QU69-47xXbCy",
        "outputId": "247345b4-2d9c-4378-aec1-3244de8ad375"
      },
      "execution_count": 4,
      "outputs": [
        {
          "output_type": "stream",
          "name": "stdout",
          "text": [
            "/content\n",
            "Cloning into 'titanic-kaggle'...\n",
            "fatal: could not read Username for 'https://github.com': No such device or address\n",
            "[Errno 2] No such file or directory: 'titanic-kaggle'\n",
            "/content\n"
          ]
        }
      ]
    },
    {
      "cell_type": "code",
      "source": [],
      "metadata": {
        "id": "CSW3qCE4Xe1v"
      },
      "execution_count": null,
      "outputs": []
    }
  ]
}